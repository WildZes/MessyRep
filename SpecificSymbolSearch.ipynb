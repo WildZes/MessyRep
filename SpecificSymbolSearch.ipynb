{
  "nbformat": 4,
  "nbformat_minor": 0,
  "metadata": {
    "colab": {
      "provenance": [],
      "authorship_tag": "ABX9TyOsmsfVX5xZeRqCHC1rhoyE"
    },
    "kernelspec": {
      "name": "python3",
      "display_name": "Python 3"
    },
    "language_info": {
      "name": "python"
    },
    "accelerator": "GPU",
    "gpuClass": "standard"
  },
  "cells": [
    {
      "cell_type": "markdown",
      "source": [
        "```bibtex @article{DBLP:journals/corr/abs-1910-13461, author = {Mike Lewis and Yinhan Liu and Naman Goyal and Marjan Ghazvininejad and Abdelrahman Mohamed and Omer Levy and Veselin Stoyanov and Luke Zettlemoyer}, title = {{BART:} Denoising Sequence-to-Sequence Pre-training for Natural Language Generation, Translation, and Comprehension}, journal = {CoRR}, volume = {abs/1910.13461}, year = {2019}, url = {http://arxiv.org/abs/1910.13461}, eprinttype = {arXiv}, eprint = {1910.13461}, timestamp = {Thu, 31 Oct 2019 14:02:26 +0100}, biburl = {https://dblp.org/rec/journals/corr/abs-1910-13461.bib}, bibsource = {dblp computer science bibliography, https://dblp.org} }"
      ],
      "metadata": {
        "id": "gXbjmP5_gg1X"
      }
    },
    {
      "cell_type": "markdown",
      "source": [
        "# Параметры"
      ],
      "metadata": {
        "id": "hhvAGp_6gvQc"
      }
    },
    {
      "cell_type": "code",
      "execution_count": 1,
      "metadata": {
        "id": "id_I2lRygDWs"
      },
      "outputs": [],
      "source": [
        "url = '' # 'https://www.gutenberg.org/cache/epub/1259/pg1259.txt' # Ссылка на txt\n",
        "filename = '/content/pg1259.txt' # Путь к txt\n",
        "word_to_split_book_into_parts = 'Chapter' # Если книга не суммаризируется целиком, можно попробовать суммаризацию по частям путем введения слова разделителся на части (пример: Chapter)\n",
        "max_words = 1000 # Количество слов суммаризации. Применение числа меньше 20 может привести к зацикливанию исполнения.\n",
        "output_file = 'output.txt' # Имя файла, в который будет записана суммаризация\n",
        "#model = \"facebook/bart-large-cnn\" #на текущипй момент не реализовано"
      ]
    },
    {
      "cell_type": "markdown",
      "source": [
        "# Суммаризация"
      ],
      "metadata": {
        "id": "8Yb4TUnbh9Sd"
      }
    },
    {
      "cell_type": "code",
      "source": [
        "%%capture\n",
        "#@markdown set up auto-formatting of cells in notebook\n",
        "\n",
        "from IPython.display import HTML, display\n",
        "\n",
        "\n",
        "def set_css():\n",
        "    display(\n",
        "        HTML(\n",
        "            \"\"\"\n",
        "  <style>\n",
        "    pre {\n",
        "        white-space: pre-wrap;\n",
        "    }\n",
        "  </style>\n",
        "  \"\"\"\n",
        "        )\n",
        "    )\n",
        "get_ipython().events.register(\"pre_run_cell\", set_css)"
      ],
      "metadata": {
        "id": "zQmDTHGEgPUx"
      },
      "execution_count": 2,
      "outputs": []
    },
    {
      "cell_type": "code",
      "source": [
        "#@markdown GPU stats\n",
        "!nvidia-smi"
      ],
      "metadata": {
        "colab": {
          "base_uri": "https://localhost:8080/",
          "height": 364
        },
        "id": "6YWJbFmwiNeH",
        "outputId": "18451764-eeac-4436-abbb-dc09c33dc606"
      },
      "execution_count": 3,
      "outputs": [
        {
          "output_type": "display_data",
          "data": {
            "text/plain": [
              "<IPython.core.display.HTML object>"
            ],
            "text/html": [
              "\n",
              "  <style>\n",
              "    pre {\n",
              "        white-space: pre-wrap;\n",
              "    }\n",
              "  </style>\n",
              "  "
            ]
          },
          "metadata": {}
        },
        {
          "output_type": "stream",
          "name": "stdout",
          "text": [
            "Wed Feb  8 21:28:06 2023       \n",
            "+-----------------------------------------------------------------------------+\n",
            "| NVIDIA-SMI 510.47.03    Driver Version: 510.47.03    CUDA Version: 11.6     |\n",
            "|-------------------------------+----------------------+----------------------+\n",
            "| GPU  Name        Persistence-M| Bus-Id        Disp.A | Volatile Uncorr. ECC |\n",
            "| Fan  Temp  Perf  Pwr:Usage/Cap|         Memory-Usage | GPU-Util  Compute M. |\n",
            "|                               |                      |               MIG M. |\n",
            "|===============================+======================+======================|\n",
            "|   0  Tesla T4            Off  | 00000000:00:04.0 Off |                    0 |\n",
            "| N/A   49C    P0    26W /  70W |      0MiB / 15360MiB |      0%      Default |\n",
            "|                               |                      |                  N/A |\n",
            "+-------------------------------+----------------------+----------------------+\n",
            "                                                                               \n",
            "+-----------------------------------------------------------------------------+\n",
            "| Processes:                                                                  |\n",
            "|  GPU   GI   CI        PID   Type   Process name                  GPU Memory |\n",
            "|        ID   ID                                                   Usage      |\n",
            "|=============================================================================|\n",
            "|  No running processes found                                                 |\n",
            "+-----------------------------------------------------------------------------+\n"
          ]
        }
      ]
    },
    {
      "cell_type": "code",
      "source": [
        "!pip install -U -q transformers"
      ],
      "metadata": {
        "colab": {
          "base_uri": "https://localhost:8080/",
          "height": 17
        },
        "id": "fia54rKTiTJi",
        "outputId": "f4fffdc9-f156-43ea-996a-69f0334369cc"
      },
      "execution_count": 4,
      "outputs": [
        {
          "output_type": "display_data",
          "data": {
            "text/plain": [
              "<IPython.core.display.HTML object>"
            ],
            "text/html": [
              "\n",
              "  <style>\n",
              "    pre {\n",
              "        white-space: pre-wrap;\n",
              "    }\n",
              "  </style>\n",
              "  "
            ]
          },
          "metadata": {}
        }
      ]
    },
    {
      "cell_type": "code",
      "source": [
        "#@markdown utils\n",
        "from transformers.utils.logging import set_verbosity\n",
        "\n",
        "set_verbosity(40)\n",
        "\n",
        "import warnings\n",
        "# ignore hf pipeline complaints\n",
        "warnings.filterwarnings(\"ignore\", category=UserWarning, module='transformers')\n",
        "warnings.filterwarnings(\"ignore\", category=FutureWarning, module='transformers')"
      ],
      "metadata": {
        "colab": {
          "base_uri": "https://localhost:8080/",
          "height": 17
        },
        "id": "8j0eFe1liV8K",
        "outputId": "3490cbf2-7a22-4eb7-8986-91597d9d779b"
      },
      "execution_count": 5,
      "outputs": [
        {
          "output_type": "display_data",
          "data": {
            "text/plain": [
              "<IPython.core.display.HTML object>"
            ],
            "text/html": [
              "\n",
              "  <style>\n",
              "    pre {\n",
              "        white-space: pre-wrap;\n",
              "    }\n",
              "  </style>\n",
              "  "
            ]
          },
          "metadata": {}
        }
      ]
    },
    {
      "cell_type": "code",
      "source": [
        "import torch\n",
        "from transformers import pipeline\n",
        "\n",
        "summarizer = pipeline(\"summarization\", model=\"facebook/bart-large-cnn\", device=0 if torch.cuda.is_available() else -1,)"
      ],
      "metadata": {
        "colab": {
          "base_uri": "https://localhost:8080/",
          "height": 17
        },
        "id": "3R6NLvWribsw",
        "outputId": "e2c82928-8f2c-4b41-8a06-ca7b4689da20"
      },
      "execution_count": 6,
      "outputs": [
        {
          "output_type": "display_data",
          "data": {
            "text/plain": [
              "<IPython.core.display.HTML object>"
            ],
            "text/html": [
              "\n",
              "  <style>\n",
              "    pre {\n",
              "        white-space: pre-wrap;\n",
              "    }\n",
              "  </style>\n",
              "  "
            ]
          },
          "metadata": {}
        }
      ]
    },
    {
      "cell_type": "code",
      "source": [
        "params = {\n",
        "    \"max_length\": 500,\n",
        "    \"min_length\": 1,\n",
        "    \"no_repeat_ngram_size\": 3,\n",
        "    \"early_stopping\": True,\n",
        "    \"repetition_penalty\": 3.5,\n",
        "    \"length_penalty\": 0.3,\n",
        "    \"encoder_no_repeat_ngram_size\": 3,\n",
        "    \"num_beams\": 4,\n",
        "    \"do_sample\": False,\n",
        "}"
      ],
      "metadata": {
        "colab": {
          "base_uri": "https://localhost:8080/",
          "height": 17
        },
        "id": "gelWnph_ihS8",
        "outputId": "8efc1aa8-b2da-4969-eb00-08db02cc48ca"
      },
      "execution_count": 7,
      "outputs": [
        {
          "output_type": "display_data",
          "data": {
            "text/plain": [
              "<IPython.core.display.HTML object>"
            ],
            "text/html": [
              "\n",
              "  <style>\n",
              "    pre {\n",
              "        white-space: pre-wrap;\n",
              "    }\n",
              "  </style>\n",
              "  "
            ]
          },
          "metadata": {}
        }
      ]
    },
    {
      "cell_type": "code",
      "source": [
        "from urllib.request import urlopen\n",
        "\n",
        "try:\n",
        "  if url:\n",
        "    df = urlopen(url)\n",
        "    long_text = df.read().decode(\"utf8\")\n",
        "  elif filename:\n",
        "    with open(filename, 'r', encoding='utf-8', errors='ignore') as f:\n",
        "      long_text = f.read()\n",
        "  else:\n",
        "    raise Exception\n",
        "except Exception as error:\n",
        "  with open(output_file, 'a+') as f:\n",
        "    f.write(error + '\\n')"
      ],
      "metadata": {
        "colab": {
          "base_uri": "https://localhost:8080/",
          "height": 17
        },
        "id": "Gq3DYC_xkuVO",
        "outputId": "3bced807-a0dd-44d6-c5fe-4ce88ba9161a"
      },
      "execution_count": 8,
      "outputs": [
        {
          "output_type": "display_data",
          "data": {
            "text/plain": [
              "<IPython.core.display.HTML object>"
            ],
            "text/html": [
              "\n",
              "  <style>\n",
              "    pre {\n",
              "        white-space: pre-wrap;\n",
              "    }\n",
              "  </style>\n",
              "  "
            ]
          },
          "metadata": {}
        }
      ]
    },
    {
      "cell_type": "code",
      "source": [
        "import nltk\n",
        "from nltk.tokenize import sent_tokenize\n",
        "nltk.download('punkt')"
      ],
      "metadata": {
        "colab": {
          "base_uri": "https://localhost:8080/",
          "height": 69
        },
        "id": "_CFJjysZO8hZ",
        "outputId": "cce090f5-e2e5-4197-e873-09977cf14e1f"
      },
      "execution_count": 9,
      "outputs": [
        {
          "output_type": "display_data",
          "data": {
            "text/plain": [
              "<IPython.core.display.HTML object>"
            ],
            "text/html": [
              "\n",
              "  <style>\n",
              "    pre {\n",
              "        white-space: pre-wrap;\n",
              "    }\n",
              "  </style>\n",
              "  "
            ]
          },
          "metadata": {}
        },
        {
          "output_type": "stream",
          "name": "stderr",
          "text": [
            "[nltk_data] Downloading package punkt to /root/nltk_data...\n",
            "[nltk_data]   Package punkt is already up-to-date!\n"
          ]
        },
        {
          "output_type": "execute_result",
          "data": {
            "text/plain": [
              "True"
            ]
          },
          "metadata": {},
          "execution_count": 9
        }
      ]
    },
    {
      "cell_type": "code",
      "source": [
        "# Split in segments\n",
        "def sis(text):\n",
        "    tokens = 0\n",
        "    eq_1024 = list()\n",
        "    total = []\n",
        "    for sent in sent_tokenize(text):\n",
        "        newtokens = len(sent.split())\n",
        "        tokens += newtokens\n",
        "        eq_1024.append(str(sent).strip())\n",
        "        if tokens > 512:\n",
        "            total.append(\" \".join(eq_1024))\n",
        "            eq_1024 = []\n",
        "            tokens = 0\n",
        "    if eq_1024:\n",
        "        total.append(\" \".join(eq_1024))\n",
        "    return total\n",
        "\n",
        "# Summarize by segments\n",
        "def sbs(text):\n",
        "    segments = sis(text)\n",
        "    summarylist = summarizer(segments, max_length=100, min_length=30, do_sample=False)\n",
        "    summary = summarizer(\" \".join([summarylist[i]['summary_text'] for i in range(len(summarylist))]), max_length = 120, min_length = 30, do_sample = False)\n",
        "    return summary\n",
        "\n",
        "def sas(long_text, number_to_split):\n",
        "  tmp = sent_tokenize(long_text.replace('“', '').replace('—', '').replace('é', '').replace('\\t', '').replace('\\r', '').replace('\\n\\n', ' ').replace('\\n', ' '))\n",
        "  eq_1024 = ''\n",
        "  total = ''\n",
        "  for line in tmp:\n",
        "    if len(eq_1024.split(' ')) + len(line.split(' ')) > number_to_split:\n",
        "      batch_sum = summarizer(eq_1024, **params)\n",
        "      total += ' ' + batch_sum[0]['summary_text']\n",
        "      eq_1024 = line + '.'\n",
        "    else:\n",
        "      eq_1024 += line + '.'\n",
        "  last_sum = summarizer(eq_1024, **params)\n",
        "  total += ' ' + last_sum[0]['summary_text']\n",
        "  return total"
      ],
      "metadata": {
        "colab": {
          "base_uri": "https://localhost:8080/",
          "height": 17
        },
        "id": "Phqi1-b0nNuY",
        "outputId": "09f4b87d-e793-44bb-eca9-6a03326dbd25"
      },
      "execution_count": 10,
      "outputs": [
        {
          "output_type": "display_data",
          "data": {
            "text/plain": [
              "<IPython.core.display.HTML object>"
            ],
            "text/html": [
              "\n",
              "  <style>\n",
              "    pre {\n",
              "        white-space: pre-wrap;\n",
              "    }\n",
              "  </style>\n",
              "  "
            ]
          },
          "metadata": {}
        }
      ]
    },
    {
      "cell_type": "code",
      "source": [
        "%%time\n",
        "!CUDA_LAUNCH_BLOCKING=1\n",
        "while len(long_text.split()) > max_words:\n",
        "  long_text = sas(long_text, 512)\n",
        "\n",
        "print(long_text)"
      ],
      "metadata": {
        "colab": {
          "base_uri": "https://localhost:8080/",
          "height": 225
        },
        "id": "2X86PTFInTK7",
        "outputId": "83e9d887-59d5-4db5-fa22-897dd312f127"
      },
      "execution_count": 11,
      "outputs": [
        {
          "output_type": "display_data",
          "data": {
            "text/plain": [
              "<IPython.core.display.HTML object>"
            ],
            "text/html": [
              "\n",
              "  <style>\n",
              "    pre {\n",
              "        white-space: pre-wrap;\n",
              "    }\n",
              "  </style>\n",
              "  "
            ]
          },
          "metadata": {}
        },
        {
          "output_type": "stream",
          "name": "stdout",
          "text": [
            " The life of Cardinal Mazarin. The French monarch who would have had to be banished if possible. A jester sings: 'I think I'll blow Sieur Mazarin  away' Two men go on a search for their lost son, Aramis. D’ artagnan meets his ex-lover and learns about his former lovers. Raoul, Porthos, Athos and Gondy meet in Paris once again. The men break their swords but don't attack each other. Raoul tells Grimaud that he will fight with him against the enemy. They also discuss Mazarin and his relationship with Henrietta. Respect for Fallen Majesty tells the story of four Frenchmen who escape England. The men are trying to rescue their king Charles I from his clutches. Athos is one of the four fugitives, along with Aramis and D' artagnan. French queen wanted to abdicate, but Mazarin said she should remain in France. Two French soldiers are captured and held captive by Swiss soldiers. They devise a trick that leads them to Mazarin's hideout.\n",
            "CPU times: user 10min 15s, sys: 2.2 s, total: 10min 18s\n",
            "Wall time: 10min 28s\n"
          ]
        }
      ]
    },
    {
      "cell_type": "code",
      "source": [
        "%%time\n",
        "import os\n",
        "\n",
        "if word_to_split_book_into_parts:\n",
        "  book_parts = long_text.split(word_to_split_book_into_parts)\n",
        "  for i in range(len(book_parts)):\n",
        "    filename = 'part' + str(i).zfill(5) + '.txt'\n",
        "    with open(filename, 'w', encoding='utf-8') as f:\n",
        "        f.write(book_parts[i])\n",
        "\n",
        "  directory = '/content/'\n",
        "\n",
        "  part_files = set()\n",
        "\n",
        "  for filename in os.listdir(directory):\n",
        "    f = ''\n",
        "    if 'part' in filename:\n",
        "      f = os.path.join(directory, filename)\n",
        "\n",
        "    if os.path.isfile(f):\n",
        "      part_files.add(f)\n",
        "  \n",
        "  long_text = ''\n",
        "  for filename in sorted(part_files):\n",
        "    if 'part00054' in filename:\n",
        "      pass\n",
        "    else:\n",
        "      print(filename)\n",
        "      with open(filename, 'r') as f:\n",
        "        long_text += sas(f.read(), 512) + '\\n\\n'\n",
        "  \n",
        "while len(long_text.split()) > max_words:\n",
        "  long_text = sas(long_text, 512)\n",
        "\n",
        "print(long_text)"
      ],
      "metadata": {
        "colab": {
          "base_uri": "https://localhost:8080/",
          "height": 1000
        },
        "id": "ZP85BycFpxX7",
        "outputId": "c8da3361-5ba8-43fd-e7c3-0c738f73e6a8"
      },
      "execution_count": 11,
      "outputs": [
        {
          "output_type": "display_data",
          "data": {
            "text/plain": [
              "<IPython.core.display.HTML object>"
            ],
            "text/html": [
              "\n",
              "  <style>\n",
              "    pre {\n",
              "        white-space: pre-wrap;\n",
              "    }\n",
              "  </style>\n",
              "  "
            ]
          },
          "metadata": {}
        },
        {
          "output_type": "stream",
          "name": "stdout",
          "text": [
            "/content/part00000.txt\n",
            "/content/part00001.txt\n",
            "/content/part00002.txt\n",
            "/content/part00003.txt\n",
            "/content/part00004.txt\n",
            "/content/part00005.txt\n",
            "/content/part00006.txt\n",
            "/content/part00007.txt\n",
            "/content/part00008.txt\n",
            "/content/part00009.txt\n",
            "/content/part00010.txt\n",
            "/content/part00011.txt\n",
            "/content/part00012.txt\n",
            "/content/part00013.txt\n",
            "/content/part00014.txt\n",
            "/content/part00015.txt\n",
            "/content/part00016.txt\n",
            "/content/part00017.txt\n",
            "/content/part00018.txt\n",
            "/content/part00019.txt\n",
            "/content/part00020.txt\n",
            "/content/part00021.txt\n",
            "/content/part00022.txt\n",
            "/content/part00023.txt\n",
            "/content/part00024.txt\n",
            "/content/part00025.txt\n",
            "/content/part00026.txt\n",
            "/content/part00027.txt\n",
            "/content/part00028.txt\n",
            "/content/part00029.txt\n",
            "/content/part00030.txt\n",
            "/content/part00031.txt\n",
            "/content/part00032.txt\n",
            "/content/part00033.txt\n",
            "/content/part00034.txt\n",
            "/content/part00035.txt\n",
            "/content/part00036.txt\n",
            "/content/part00037.txt\n",
            "/content/part00038.txt\n",
            "/content/part00039.txt\n",
            "/content/part00040.txt\n",
            "/content/part00041.txt\n",
            "/content/part00042.txt\n",
            "/content/part00043.txt\n",
            "/content/part00044.txt\n",
            "/content/part00045.txt\n",
            "/content/part00046.txt\n",
            "/content/part00047.txt\n",
            "/content/part00048.txt\n",
            "/content/part00049.txt\n",
            "/content/part00050.txt\n",
            "/content/part00051.txt\n",
            "/content/part00052.txt\n",
            "/content/part00053.txt\n",
            "/content/part00055.txt\n",
            "/content/part00056.txt\n",
            "/content/part00057.txt\n",
            "/content/part00058.txt\n",
            "/content/part00059.txt\n",
            "/content/part00060.txt\n",
            "/content/part00061.txt\n",
            "/content/part00062.txt\n",
            "/content/part00063.txt\n",
            "/content/part00064.txt\n",
            "/content/part00065.txt\n",
            "/content/part00066.txt\n",
            "/content/part00067.txt\n",
            "/content/part00068.txt\n",
            "/content/part00069.txt\n",
            "/content/part00070.txt\n",
            "/content/part00071.txt\n",
            "/content/part00072.txt\n",
            "/content/part00073.txt\n",
            "/content/part00074.txt\n",
            "/content/part00075.txt\n",
            "/content/part00076.txt\n",
            "/content/part00077.txt\n",
            "/content/part00078.txt\n",
            "/content/part00079.txt\n",
            "/content/part00080.txt\n",
            "/content/part00081.txt\n",
            "/content/part00082.txt\n",
            "/content/part00083.txt\n",
            "/content/part00084.txt\n",
            "/content/part00085.txt\n",
            "/content/part00086.txt\n",
            "/content/part00087.txt\n",
            "/content/part00088.txt\n",
            "/content/part00089.txt\n",
            "/content/part00090.txt\n",
            " The story is based on a meeting between Cardinal Mazarin and Queen Anne of Austria. The French Revolution was the most memorable event in American history. Raoul, Prince of Lens was shot in the arm by a Spaniard. He went to help those who had been injured and came across two young warriors. They were searching for their enemy Prince Guiche. Raoul told them what he had seen, but they wanted to know more about him. The prince then took Raoul on a horseback ride to Lens to find his rival. The story of four men who help a French king escape from prison. They plan to stay in London and meet Mordaunt. But they are killed by the king's killer, Charles Stuart. The pair then try to find their missing friend Raoul. D' artagnan was a companion of Queen Anne of Austria. Was sent to protect her from rioting crowds in Paris. He died trying to break-up a fight between royal guards and crowds. A young boy asked by the king could not remember who had killed him.\n",
            "CPU times: user 10min 32s, sys: 2.45 s, total: 10min 35s\n",
            "Wall time: 10min 41s\n"
          ]
        }
      ]
    },
    {
      "cell_type": "code",
      "source": [
        "!wget -O test.txt https://www.gutenberg.org/cache/epub/1259/pg1259.txt\n",
        "\n",
        "with open('test.txt', 'r') as f:\n",
        "  test_text = f.read()\n",
        "testing_parts = test_text.split(word_to_split_book_into_parts)\n",
        "for i in range(len(testing_parts)):\n",
        "  filename = 'test' + str(i).zfill(3) + '.txt'\n",
        "  with open(filename, 'w', encoding='utf-8') as f:\n",
        "      f.write(testing_parts[i])"
      ],
      "metadata": {
        "colab": {
          "base_uri": "https://localhost:8080/",
          "height": 208
        },
        "id": "rqnpFGwEyTYU",
        "outputId": "cb374946-c7d9-4444-871d-9333e1c49653"
      },
      "execution_count": 12,
      "outputs": [
        {
          "output_type": "display_data",
          "data": {
            "text/plain": [
              "<IPython.core.display.HTML object>"
            ],
            "text/html": [
              "\n",
              "  <style>\n",
              "    pre {\n",
              "        white-space: pre-wrap;\n",
              "    }\n",
              "  </style>\n",
              "  "
            ]
          },
          "metadata": {}
        },
        {
          "output_type": "stream",
          "name": "stdout",
          "text": [
            "--2023-02-08 20:09:57--  https://www.gutenberg.org/cache/epub/1259/pg1259.txt\n",
            "Resolving www.gutenberg.org (www.gutenberg.org)... 152.19.134.47, 2610:28:3090:3000:0:bad:cafe:47\n",
            "Connecting to www.gutenberg.org (www.gutenberg.org)|152.19.134.47|:443... connected.\n",
            "HTTP request sent, awaiting response... 200 OK\n",
            "Length: 1473597 (1.4M) [text/plain]\n",
            "Saving to: ‘test.txt’\n",
            "\n",
            "test.txt            100%[===================>]   1.41M  --.-KB/s    in 0.09s   \n",
            "\n",
            "2023-02-08 20:09:58 (15.2 MB/s) - ‘test.txt’ saved [1473597/1473597]\n",
            "\n"
          ]
        }
      ]
    },
    {
      "cell_type": "code",
      "source": [
        "for part in os.listdir(directory):\n",
        "  fp = ''\n",
        "  if 'part' in part:\n",
        "    fp = os.path.join(directory, part)\n",
        "  else: p = None\n",
        "  if os.path.isfile(fp):\n",
        "    with open(fp, 'r')as f:\n",
        "      p = f.read()\n",
        "  \n",
        "  for test in os.listdir(directory):\n",
        "    ft = ''\n",
        "    if 'test' in test:\n",
        "      ft = os.path.join(directory, test)\n",
        "    else: t = None\n",
        "    if os.path.isfile(ft):\n",
        "      with open(ft, 'r')as f:\n",
        "        t = f.read()\n",
        "    if t is not None and p is not None:\n",
        "      if len(p) == len(t):\n",
        "        print(fp, ft)"
      ],
      "metadata": {
        "colab": {
          "base_uri": "https://localhost:8080/",
          "height": 1000
        },
        "id": "729UbTzHyUeX",
        "outputId": "c61f6a3a-d776-4674-eb33-52c15ffbe2a5"
      },
      "execution_count": 27,
      "outputs": [
        {
          "output_type": "display_data",
          "data": {
            "text/plain": [
              "<IPython.core.display.HTML object>"
            ],
            "text/html": [
              "\n",
              "  <style>\n",
              "    pre {\n",
              "        white-space: pre-wrap;\n",
              "    }\n",
              "  </style>\n",
              "  "
            ]
          },
          "metadata": {}
        },
        {
          "output_type": "stream",
          "name": "stdout",
          "text": [
            "/content/part00014.txt /content/test104.txt\n",
            "/content/part00020.txt /content/test110.txt\n",
            "/content/part00031.txt /content/test121.txt\n",
            "/content/part00078.txt /content/test168.txt\n",
            "/content/part00066.txt /content/test156.txt\n",
            "/content/part00083.txt /content/test173.txt\n",
            "/content/part00036.txt /content/test126.txt\n",
            "/content/part00017.txt /content/test107.txt\n",
            "/content/part00050.txt /content/test140.txt\n",
            "/content/part00025.txt /content/test115.txt\n",
            "/content/part00053.txt /content/test143.txt\n",
            "/content/part00064.txt /content/test154.txt\n",
            "/content/part00003.txt /content/test093.txt\n",
            "/content/part00004.txt /content/test094.txt\n",
            "/content/part00052.txt /content/test142.txt\n",
            "/content/part00035.txt /content/test125.txt\n",
            "/content/part00013.txt /content/test103.txt\n",
            "/content/part00008.txt /content/test098.txt\n",
            "/content/part00062.txt /content/test152.txt\n",
            "/content/part00074.txt /content/test164.txt\n",
            "/content/part00045.txt /content/test135.txt\n",
            "/content/part00073.txt /content/test163.txt\n",
            "/content/part00030.txt /content/test120.txt\n",
            "/content/part00047.txt /content/test117.txt\n",
            "/content/part00047.txt /content/test137.txt\n",
            "/content/part00084.txt /content/test174.txt\n",
            "/content/part00048.txt /content/test138.txt\n",
            "/content/part00039.txt /content/test129.txt\n",
            "/content/part00043.txt /content/test133.txt\n",
            "/content/part00037.txt /content/test127.txt\n",
            "/content/part00051.txt /content/test141.txt\n",
            "/content/part00011.txt /content/test101.txt\n",
            "/content/part00082.txt /content/test172.txt\n",
            "/content/part00033.txt /content/test123.txt\n",
            "/content/part00086.txt /content/test176.txt\n",
            "/content/part00002.txt /content/test092.txt\n",
            "/content/part00058.txt /content/test148.txt\n",
            "/content/part00029.txt /content/test119.txt\n",
            "/content/part00018.txt /content/test108.txt\n",
            "/content/part00087.txt /content/test177.txt\n",
            "/content/part00076.txt /content/test166.txt\n",
            "/content/part00081.txt /content/test171.txt\n",
            "/content/part00041.txt /content/test131.txt\n",
            "/content/part00085.txt /content/test175.txt\n",
            "/content/part00001.txt /content/test091.txt\n",
            "/content/part00040.txt /content/test130.txt\n",
            "/content/part00044.txt /content/test134.txt\n",
            "/content/part00071.txt /content/test161.txt\n",
            "/content/part00032.txt /content/test122.txt\n",
            "/content/part00068.txt /content/test158.txt\n",
            "/content/part00042.txt /content/test132.txt\n",
            "/content/part00049.txt /content/test139.txt\n",
            "/content/part00026.txt /content/test116.txt\n",
            "/content/part00059.txt /content/test149.txt\n",
            "/content/part00057.txt /content/test147.txt\n",
            "/content/part00060.txt /content/test150.txt\n",
            "/content/part00022.txt /content/test112.txt\n",
            "/content/part00056.txt /content/test146.txt\n",
            "/content/part00070.txt /content/test160.txt\n",
            "/content/part00034.txt /content/test124.txt\n",
            "/content/part00072.txt /content/test162.txt\n",
            "/content/part00075.txt /content/test165.txt\n",
            "/content/part00021.txt /content/test111.txt\n",
            "/content/part00079.txt /content/test169.txt\n",
            "/content/part00065.txt /content/test155.txt\n",
            "/content/part00069.txt /content/test159.txt\n",
            "/content/part00038.txt /content/test128.txt\n",
            "/content/part00024.txt /content/test114.txt\n",
            "/content/part00009.txt /content/test099.txt\n",
            "/content/part00015.txt /content/test105.txt\n",
            "/content/part00063.txt /content/test153.txt\n",
            "/content/part00061.txt /content/test151.txt\n",
            "/content/part00077.txt /content/test167.txt\n",
            "/content/part00046.txt /content/test136.txt\n",
            "/content/part00028.txt /content/test118.txt\n",
            "/content/part00088.txt /content/test178.txt\n",
            "/content/part00067.txt /content/test157.txt\n",
            "/content/part00016.txt /content/test106.txt\n",
            "/content/part00054.txt /content/test144.txt\n",
            "/content/part00010.txt /content/test100.txt\n",
            "/content/part00027.txt /content/test117.txt\n",
            "/content/part00027.txt /content/test137.txt\n",
            "/content/part00005.txt /content/test095.txt\n",
            "/content/part00080.txt /content/test170.txt\n",
            "/content/part00012.txt /content/test102.txt\n",
            "/content/part00007.txt /content/test097.txt\n",
            "/content/part00089.txt /content/test179.txt\n",
            "/content/part00006.txt /content/test096.txt\n",
            "/content/part00023.txt /content/test113.txt\n",
            "/content/part00019.txt /content/test109.txt\n",
            "/content/part00055.txt /content/test145.txt\n"
          ]
        }
      ]
    },
    {
      "cell_type": "code",
      "source": [
        "output_set = set()\n",
        "with open('/content/part00054.txt', 'r')as f:\n",
        "  char_seek = set(f.read())\n",
        "\n",
        "\n",
        "for i in range(91):\n",
        "  filename = os.path.join(directory, 'test' + str(i).zfill(3) + '.txt')\n",
        "  if os.path.isfile(filename):\n",
        "    with open(filename, 'r')as f:\n",
        "      t = set(f.read())\n",
        "  for ch in list(char_seek):\n",
        "    if  ch in t:\n",
        "      output_set.add(ch)\n",
        "sorted(output_set)"
      ],
      "metadata": {
        "id": "c6VGyabc5zX5",
        "colab": {
          "base_uri": "https://localhost:8080/",
          "height": 1000
        },
        "outputId": "401df143-23ba-41c3-83f3-89eea26ce6ac"
      },
      "execution_count": 36,
      "outputs": [
        {
          "output_type": "display_data",
          "data": {
            "text/plain": [
              "<IPython.core.display.HTML object>"
            ],
            "text/html": [
              "\n",
              "  <style>\n",
              "    pre {\n",
              "        white-space: pre-wrap;\n",
              "    }\n",
              "  </style>\n",
              "  "
            ]
          },
          "metadata": {}
        },
        {
          "output_type": "execute_result",
          "data": {
            "text/plain": [
              "['\\n',\n",
              " ' ',\n",
              " '!',\n",
              " ',',\n",
              " '-',\n",
              " '.',\n",
              " ':',\n",
              " 'A',\n",
              " 'B',\n",
              " 'C',\n",
              " 'D',\n",
              " 'E',\n",
              " 'F',\n",
              " 'G',\n",
              " 'H',\n",
              " 'I',\n",
              " 'J',\n",
              " 'L',\n",
              " 'M',\n",
              " 'N',\n",
              " 'O',\n",
              " 'P',\n",
              " 'R',\n",
              " 'S',\n",
              " 'T',\n",
              " 'U',\n",
              " 'V',\n",
              " 'W',\n",
              " 'Y',\n",
              " 'a',\n",
              " 'b',\n",
              " 'c',\n",
              " 'd',\n",
              " 'e',\n",
              " 'f',\n",
              " 'g',\n",
              " 'h',\n",
              " 'i',\n",
              " 'j',\n",
              " 'k',\n",
              " 'l',\n",
              " 'm',\n",
              " 'n',\n",
              " 'o',\n",
              " 'p',\n",
              " 'q',\n",
              " 'r',\n",
              " 's',\n",
              " 't',\n",
              " 'u',\n",
              " 'v',\n",
              " 'w',\n",
              " 'x',\n",
              " 'y',\n",
              " 'z',\n",
              " 'é',\n",
              " '—',\n",
              " '’',\n",
              " '“',\n",
              " '”']"
            ]
          },
          "metadata": {},
          "execution_count": 36
        }
      ]
    },
    {
      "cell_type": "code",
      "source": [
        "'a' in set('aaabbccccc')"
      ],
      "metadata": {
        "colab": {
          "base_uri": "https://localhost:8080/",
          "height": 34
        },
        "id": "4ks0vuMDeOQU",
        "outputId": "e7aaad95-4801-4adb-ae07-c9c70927a380"
      },
      "execution_count": 35,
      "outputs": [
        {
          "output_type": "display_data",
          "data": {
            "text/plain": [
              "<IPython.core.display.HTML object>"
            ],
            "text/html": [
              "\n",
              "  <style>\n",
              "    pre {\n",
              "        white-space: pre-wrap;\n",
              "    }\n",
              "  </style>\n",
              "  "
            ]
          },
          "metadata": {}
        },
        {
          "output_type": "execute_result",
          "data": {
            "text/plain": [
              "True"
            ]
          },
          "metadata": {},
          "execution_count": 35
        }
      ]
    },
    {
      "cell_type": "code",
      "source": [],
      "metadata": {
        "id": "0cD7Ugc7eThF"
      },
      "execution_count": null,
      "outputs": []
    }
  ]
}